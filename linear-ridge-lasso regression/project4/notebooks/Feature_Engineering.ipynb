{
 "cells": [
  {
   "cell_type": "markdown",
   "metadata": {},
   "source": [
    "# Feature Engineering"
   ]
  },
  {
   "cell_type": "code",
   "execution_count": 40,
   "metadata": {},
   "outputs": [],
   "source": [
    "import pandas as pd\n",
    "import numpy as np\n",
    "from sklearn.model_selection import train_test_split, GridSearchCV\n",
    "from sklearn.linear_model import LinearRegression, Ridge, Lasso\n",
    "from sklearn.metrics import mean_absolute_error, mean_squared_error, r2_score\n",
    "from sklearn.preprocessing import StandardScaler, PolynomialFeatures\n",
    "import matplotlib.pyplot as plt\n"
   ]
  },
  {
   "cell_type": "code",
   "execution_count": 41,
   "metadata": {},
   "outputs": [],
   "source": [
    "# Loading the data set\n",
    "\n",
    "# Load dataset\n",
    "df = pd.read_csv('../data/transformed_correlated.csv', header=None)\n",
    "\n",
    "# Add column names\n",
    "col_names = ['CRIM', 'ZN', 'INDUS', 'CHAS', 'NOX', 'RM', 'AGE', 'DIS', 'RAD', 'TAX', 'PTRATIO', 'B', 'LSTAT', 'MEDV', 'BIAS_COL']\n",
    "df.columns = col_names\n",
    "\n",
    "# Remove non-numeric columns and handle potential issues with headers\n",
    "df = df.apply(pd.to_numeric, errors='coerce').dropna()\n",
    "\n",
    "# Remove the last column\n",
    "df = df.iloc[:, :-1]\n",
    "\n",
    "# Replace infinite values with NaN and then drop them\n",
    "df.replace([np.inf, -np.inf], np.nan, inplace=True)\n",
    "df.dropna(inplace=True)"
   ]
  },
  {
   "cell_type": "code",
   "execution_count": 42,
   "metadata": {},
   "outputs": [],
   "source": [
    "# # Create new features\n",
    "# df['RM_AGE'] = df['RM'] * df['AGE']\n",
    "# df['DIS_TAX'] = df['DIS'] * df['TAX']\n",
    "# df['LSTAT_SQ'] = df['LSTAT'] ** 2\n"
   ]
  },
  {
   "cell_type": "code",
   "execution_count": 43,
   "metadata": {},
   "outputs": [],
   "source": [
    "\n",
    "# Polynomial Features\n",
    "poly = PolynomialFeatures(degree=2, include_bias=False)\n",
    "poly_features = poly.fit_transform(df.drop('MEDV', axis=1))\n",
    "poly_feature_names = poly.get_feature_names_out(df.drop('MEDV', axis=1).columns)\n",
    "df_poly = pd.DataFrame(poly_features, columns=poly_feature_names)"
   ]
  },
  {
   "cell_type": "code",
   "execution_count": 44,
   "metadata": {},
   "outputs": [],
   "source": [
    "# Combine original and polynomial features\n",
    "df_combined = pd.concat([df.reset_index(drop=True), df_poly], axis=1)"
   ]
  },
  {
   "cell_type": "code",
   "execution_count": 45,
   "metadata": {},
   "outputs": [],
   "source": [
    "\n",
    "# Split the data into features and target\n",
    "X = df.drop('MEDV', axis=1)\n",
    "y = df['MEDV']\n",
    "\n",
    "# Train-test split\n",
    "X_train, X_test, y_train, y_test = train_test_split(X, y, test_size=0.2, random_state=42)\n"
   ]
  },
  {
   "cell_type": "code",
   "execution_count": 46,
   "metadata": {},
   "outputs": [],
   "source": [
    "# Standardize the data\n",
    "scaler = StandardScaler()\n",
    "X_train_scaled = scaler.fit_transform(X_train)\n",
    "X_test_scaled = scaler.transform(X_test)"
   ]
  },
  {
   "cell_type": "markdown",
   "metadata": {},
   "source": [
    "## Without using GridSearchCV\n"
   ]
  },
  {
   "cell_type": "code",
   "execution_count": 47,
   "metadata": {},
   "outputs": [],
   "source": [
    "\n",
    "mae = []\n",
    "mse = []\n",
    "r2 = []\n",
    "\n",
    "# Linear Regression\n",
    "lr = LinearRegression()\n",
    "lr.fit(X_train_scaled, y_train)\n",
    "lr_pred = lr.predict(X_test_scaled)\n",
    "r2.append(r2_score(y_test, lr_pred))\n",
    "mae.append(mean_absolute_error(y_test, lr_pred))\n",
    "mse.append(mean_squared_error(y_test, lr_pred))\n",
    "\n",
    "# Ridge Regression\n",
    "ridge = Ridge(alpha=1.0)\n",
    "ridge.fit(X_train_scaled, y_train)\n",
    "ridge_pred = ridge.predict(X_test_scaled)\n",
    "r2.append(r2_score(y_test, ridge_pred))\n",
    "mae.append(mean_absolute_error(y_test, ridge_pred))\n",
    "mse.append(mean_squared_error(y_test, ridge_pred))\n",
    "\n",
    "# Lasso Regression\n",
    "lasso = Lasso(alpha=0.1)\n",
    "lasso.fit(X_train_scaled, y_train)\n",
    "lasso_pred = lasso.predict(X_test_scaled)\n",
    "r2.append(r2_score(y_test, lasso_pred))\n",
    "mae.append(mean_absolute_error(y_test, lasso_pred))\n",
    "mse.append(mean_squared_error(y_test, lasso_pred))\n",
    "\n",
    "df_metrics = pd.DataFrame({'MAE':mae, 'MSE':mse,'R2':r2}, index=['Linear','Ridge','Lasso']) "
   ]
  },
  {
   "cell_type": "code",
   "execution_count": 48,
   "metadata": {},
   "outputs": [
    {
     "data": {
      "text/html": [
       "<div>\n",
       "<style scoped>\n",
       "    .dataframe tbody tr th:only-of-type {\n",
       "        vertical-align: middle;\n",
       "    }\n",
       "\n",
       "    .dataframe tbody tr th {\n",
       "        vertical-align: top;\n",
       "    }\n",
       "\n",
       "    .dataframe thead th {\n",
       "        text-align: right;\n",
       "    }\n",
       "</style>\n",
       "<table border=\"1\" class=\"dataframe\">\n",
       "  <thead>\n",
       "    <tr style=\"text-align: right;\">\n",
       "      <th></th>\n",
       "      <th>MAE</th>\n",
       "      <th>MSE</th>\n",
       "      <th>R2</th>\n",
       "    </tr>\n",
       "  </thead>\n",
       "  <tbody>\n",
       "    <tr>\n",
       "      <th>Linear</th>\n",
       "      <td>0.332631</td>\n",
       "      <td>0.165751</td>\n",
       "      <td>0.574287</td>\n",
       "    </tr>\n",
       "    <tr>\n",
       "      <th>Ridge</th>\n",
       "      <td>0.327392</td>\n",
       "      <td>0.160926</td>\n",
       "      <td>0.586681</td>\n",
       "    </tr>\n",
       "    <tr>\n",
       "      <th>Lasso</th>\n",
       "      <td>0.278374</td>\n",
       "      <td>0.137529</td>\n",
       "      <td>0.646774</td>\n",
       "    </tr>\n",
       "  </tbody>\n",
       "</table>\n",
       "</div>"
      ],
      "text/plain": [
       "             MAE       MSE        R2\n",
       "Linear  0.332631  0.165751  0.574287\n",
       "Ridge   0.327392  0.160926  0.586681\n",
       "Lasso   0.278374  0.137529  0.646774"
      ]
     },
     "execution_count": 48,
     "metadata": {},
     "output_type": "execute_result"
    }
   ],
   "source": [
    "df_metrics"
   ]
  },
  {
   "cell_type": "markdown",
   "metadata": {},
   "source": [
    "## Using gridsearchcv"
   ]
  },
  {
   "cell_type": "code",
   "execution_count": 49,
   "metadata": {},
   "outputs": [],
   "source": [
    "# Define parameter grids\n",
    "param_grid_ridge = {'alpha': [0.1, 1, 10, 100]}\n",
    "param_grid_lasso = {'alpha': [0.1, 1, 10, 100]}\n",
    "\n",
    "# Initialize models\n",
    "ridge = Ridge()\n",
    "lasso = Lasso()\n",
    "\n",
    "# Grid Search CV for Ridge Regression\n",
    "grid_search_ridge = GridSearchCV(estimator=ridge, param_grid=param_grid_ridge, cv=5, scoring='r2')\n",
    "grid_search_ridge.fit(X_train_scaled, y_train)\n",
    "\n",
    "# Grid Search CV for Lasso Regression\n",
    "grid_search_lasso = GridSearchCV(estimator=lasso, param_grid=param_grid_lasso, cv=5, scoring='r2')\n",
    "grid_search_lasso.fit(X_train_scaled, y_train)\n",
    "\n",
    "# Get the best models\n",
    "best_ridge = grid_search_ridge.best_estimator_\n",
    "best_lasso = grid_search_lasso.best_estimator_\n",
    "\n",
    "# Initialize lists to store metrics\n",
    "mae_grid = []\n",
    "mse_grid = []\n",
    "r2_grid = []\n",
    "\n",
    "# Linear Regression (No Grid Search needed)\n",
    "lr_pred_grid = lr.predict(X_test_scaled)\n",
    "r2_grid.append(r2_score(y_test, lr_pred_grid))\n",
    "mae_grid.append(mean_absolute_error(y_test, lr_pred_grid))\n",
    "mse_grid.append(mean_squared_error(y_test, lr_pred_grid))\n",
    "\n",
    "# Ridge Regression\n",
    "ridge_pred_grid= best_ridge.predict(X_test_scaled)\n",
    "r2_grid.append(r2_score(y_test, ridge_pred_grid))\n",
    "mae_grid.append(mean_absolute_error(y_test, ridge_pred_grid))\n",
    "mse_grid.append(mean_squared_error(y_test, ridge_pred_grid))\n",
    "\n",
    "# Lasso Regression\n",
    "lasso_pred_grid= best_lasso.predict(X_test_scaled)\n",
    "r2_grid.append(r2_score(y_test, lasso_pred_grid))\n",
    "mae_grid.append(mean_absolute_error(y_test, lasso_pred_grid))\n",
    "mse_grid.append(mean_squared_error(y_test, lasso_pred_grid))\n",
    "\n",
    "# Create DataFrame for metrics\n",
    "df_metrics_grid = pd.DataFrame({'MAE':mae_grid, 'MSE':mse_grid, 'R2':r2_grid}, index=['Linear', 'Ridge', 'Lasso'])"
   ]
  },
  {
   "cell_type": "code",
   "execution_count": 50,
   "metadata": {},
   "outputs": [
    {
     "data": {
      "text/html": [
       "<div>\n",
       "<style scoped>\n",
       "    .dataframe tbody tr th:only-of-type {\n",
       "        vertical-align: middle;\n",
       "    }\n",
       "\n",
       "    .dataframe tbody tr th {\n",
       "        vertical-align: top;\n",
       "    }\n",
       "\n",
       "    .dataframe thead th {\n",
       "        text-align: right;\n",
       "    }\n",
       "</style>\n",
       "<table border=\"1\" class=\"dataframe\">\n",
       "  <thead>\n",
       "    <tr style=\"text-align: right;\">\n",
       "      <th></th>\n",
       "      <th>MAE</th>\n",
       "      <th>MSE</th>\n",
       "      <th>R2</th>\n",
       "    </tr>\n",
       "  </thead>\n",
       "  <tbody>\n",
       "    <tr>\n",
       "      <th>Linear</th>\n",
       "      <td>0.332631</td>\n",
       "      <td>0.165751</td>\n",
       "      <td>0.574287</td>\n",
       "    </tr>\n",
       "    <tr>\n",
       "      <th>Ridge</th>\n",
       "      <td>0.294173</td>\n",
       "      <td>0.132516</td>\n",
       "      <td>0.659647</td>\n",
       "    </tr>\n",
       "    <tr>\n",
       "      <th>Lasso</th>\n",
       "      <td>0.278374</td>\n",
       "      <td>0.137529</td>\n",
       "      <td>0.646774</td>\n",
       "    </tr>\n",
       "  </tbody>\n",
       "</table>\n",
       "</div>"
      ],
      "text/plain": [
       "             MAE       MSE        R2\n",
       "Linear  0.332631  0.165751  0.574287\n",
       "Ridge   0.294173  0.132516  0.659647\n",
       "Lasso   0.278374  0.137529  0.646774"
      ]
     },
     "execution_count": 50,
     "metadata": {},
     "output_type": "execute_result"
    }
   ],
   "source": [
    "df_metrics_grid"
   ]
  },
  {
   "cell_type": "code",
   "execution_count": null,
   "metadata": {},
   "outputs": [],
   "source": []
  }
 ],
 "metadata": {
  "kernelspec": {
   "display_name": "ml_lr",
   "language": "python",
   "name": "python3"
  },
  "language_info": {
   "codemirror_mode": {
    "name": "ipython",
    "version": 3
   },
   "file_extension": ".py",
   "mimetype": "text/x-python",
   "name": "python",
   "nbconvert_exporter": "python",
   "pygments_lexer": "ipython3",
   "version": "3.12.4"
  }
 },
 "nbformat": 4,
 "nbformat_minor": 2
}
